{
    "cells": [
        {
            "cell_type": "markdown",
            "metadata": {},
            "source": [
                "# **PREDICTING RELEVANT ACTORS FOR A GENRE**\n",
                "\n",
                "<br>\n",
                "\n",
                "<br>"
            ]
        },
        {
            "cell_type": "markdown",
            "metadata": {},
            "source": [
                "**1.1. LIBRARY IMPORTING**"
            ]
        },
        {
            "cell_type": "code",
            "execution_count": 1,
            "metadata": {},
            "outputs": [],
            "source": [
                "import pandas as pd\n",
                "import ast\n",
                "from sklearn.preprocessing import MultiLabelBinarizer\n",
                "import pickle\n",
                "from sklearn.metrics import accuracy_score, precision_score, recall_score, f1_score\n",
                "from sklearn.linear_model import LogisticRegression\n",
                "from sklearn.model_selection import train_test_split\n",
                "import pickle\n",
                "from sklearn.linear_model import LogisticRegression ##\n",
                "\n",
                "\n",
                "\n",
                "\n",
                "\n",
                "\n"
            ]
        },
        {
            "cell_type": "markdown",
            "metadata": {},
            "source": [
                "**1.2. LOAD DATASETS**"
            ]
        },
        {
            "cell_type": "code",
            "execution_count": 2,
            "metadata": {},
            "outputs": [
                {
                    "name": "stdout",
                    "output_type": "stream",
                    "text": [
                        "Movies Dataset Columns:\n",
                        "Index(['budget', 'genres', 'homepage', 'id', 'keywords', 'original_language',\n",
                        "       'original_title', 'overview', 'popularity', 'production_companies',\n",
                        "       'production_countries', 'release_date', 'revenue', 'runtime',\n",
                        "       'spoken_languages', 'status', 'tagline', 'title', 'vote_average',\n",
                        "       'vote_count'],\n",
                        "      dtype='object')\n",
                        "\n",
                        "Credits Dataset Columns:\n",
                        "Index(['movie_id', 'title', 'cast', 'crew'], dtype='object')\n"
                    ]
                }
            ],
            "source": [
                "# Load the datasets\n",
                "movies = pd.read_csv(\"https://raw.githubusercontent.com/4GeeksAcademy/k-nearest-neighbors-project-tutorial/main/tmdb_5000_movies.csv\")\n",
                "credits = pd.read_csv(\"https://raw.githubusercontent.com/4GeeksAcademy/k-nearest-neighbors-project-tutorial/main/tmdb_5000_credits.csv\")\n",
                "\n",
                "# Display basic information about the datasets\n",
                "print(\"Movies Dataset Columns:\")\n",
                "print(movies.columns)\n",
                "\n",
                "print(\"\\nCredits Dataset Columns:\")\n",
                "print(credits.columns)\n"
            ]
        },
        {
            "cell_type": "markdown",
            "metadata": {},
            "source": [
                "**1.3.  MERGE THE DATASETS**"
            ]
        },
        {
            "cell_type": "code",
            "execution_count": 3,
            "metadata": {},
            "outputs": [
                {
                    "name": "stdout",
                    "output_type": "stream",
                    "text": [
                        "Merged Dataset:\n",
                        "                                      title  \\\n",
                        "0                                    Avatar   \n",
                        "1  Pirates of the Caribbean: At World's End   \n",
                        "2                                   Spectre   \n",
                        "3                     The Dark Knight Rises   \n",
                        "4                               John Carter   \n",
                        "\n",
                        "                                              genres  \\\n",
                        "0  [{\"id\": 28, \"name\": \"Action\"}, {\"id\": 12, \"nam...   \n",
                        "1  [{\"id\": 12, \"name\": \"Adventure\"}, {\"id\": 14, \"...   \n",
                        "2  [{\"id\": 28, \"name\": \"Action\"}, {\"id\": 12, \"nam...   \n",
                        "3  [{\"id\": 28, \"name\": \"Action\"}, {\"id\": 80, \"nam...   \n",
                        "4  [{\"id\": 28, \"name\": \"Action\"}, {\"id\": 12, \"nam...   \n",
                        "\n",
                        "                                                cast  \n",
                        "0  [{\"cast_id\": 242, \"character\": \"Jake Sully\", \"...  \n",
                        "1  [{\"cast_id\": 4, \"character\": \"Captain Jack Spa...  \n",
                        "2  [{\"cast_id\": 1, \"character\": \"James Bond\", \"cr...  \n",
                        "3  [{\"cast_id\": 2, \"character\": \"Bruce Wayne / Ba...  \n",
                        "4  [{\"cast_id\": 5, \"character\": \"John Carter\", \"c...  \n"
                    ]
                }
            ],
            "source": [
                "# Merge the datasets on the 'title' column\n",
                "merged_data = pd.merge(movies, credits, on=\"title\")\n",
                "\n",
                "# Retain only relevant columns\n",
                "columns_to_keep = ['title', 'genres', 'cast']\n",
                "merged_data = merged_data[columns_to_keep]\n",
                "\n",
                "# Display merged dataset\n",
                "print(\"Merged Dataset:\")\n",
                "print(merged_data.head())"
            ]
        },
        {
            "cell_type": "markdown",
            "metadata": {},
            "source": [
                "- Merge the datasets to unify the `genres` and `cast` columns for each movie.\n",
                "- Keep only the columns necessary for analyzing genres and cast, which are critical for the model."
            ]
        },
        {
            "cell_type": "markdown",
            "metadata": {},
            "source": [
                "**1.4. PROCESS GENRES**"
            ]
        },
        {
            "cell_type": "code",
            "execution_count": 4,
            "metadata": {},
            "outputs": [
                {
                    "name": "stdout",
                    "output_type": "stream",
                    "text": [
                        "Processed Genres:\n",
                        "                                      title  \\\n",
                        "0                                    Avatar   \n",
                        "1  Pirates of the Caribbean: At World's End   \n",
                        "2                                   Spectre   \n",
                        "3                     The Dark Knight Rises   \n",
                        "4                               John Carter   \n",
                        "\n",
                        "                                          genres  \n",
                        "0  [Action, Adventure, Fantasy, Science Fiction]  \n",
                        "1                   [Adventure, Fantasy, Action]  \n",
                        "2                     [Action, Adventure, Crime]  \n",
                        "3               [Action, Crime, Drama, Thriller]  \n",
                        "4           [Action, Adventure, Science Fiction]  \n"
                    ]
                }
            ],
            "source": [
                "# Extract genre names from the JSON-like column\n",
                "def extract_genres(genres_column):\n",
                "    try:\n",
                "        return [genre['name'] for genre in ast.literal_eval(genres_column)]\n",
                "    except (ValueError, SyntaxError):\n",
                "        return []\n",
                "\n",
                "merged_data['genres'] = merged_data['genres'].apply(extract_genres)\n",
                "\n",
                "# Display processed genres\n",
                "print(\"Processed Genres:\")\n",
                "print(merged_data[['title', 'genres']].head())"
            ]
        },
        {
            "cell_type": "markdown",
            "metadata": {},
            "source": [
                "Explanation:\n",
                "\n",
                "- Parse the `genres` column to extract a list of genre names for each movie.\n",
                "- This ensures the data is ready for genre-based analysis."
            ]
        },
        {
            "cell_type": "markdown",
            "metadata": {},
            "source": [
                "**1.5. PROCESS CAST**"
            ]
        },
        {
            "cell_type": "code",
            "execution_count": 5,
            "metadata": {},
            "outputs": [
                {
                    "name": "stdout",
                    "output_type": "stream",
                    "text": [
                        "Processed Cast:\n",
                        "                                      title  \\\n",
                        "0                                    Avatar   \n",
                        "1  Pirates of the Caribbean: At World's End   \n",
                        "2                                   Spectre   \n",
                        "3                     The Dark Knight Rises   \n",
                        "4                               John Carter   \n",
                        "\n",
                        "                                               cast  \n",
                        "0  [Sam Worthington, Zoe Saldana, Sigourney Weaver]  \n",
                        "1     [Johnny Depp, Orlando Bloom, Keira Knightley]  \n",
                        "2      [Daniel Craig, Christoph Waltz, Léa Seydoux]  \n",
                        "3      [Christian Bale, Michael Caine, Gary Oldman]  \n",
                        "4    [Taylor Kitsch, Lynn Collins, Samantha Morton]  \n"
                    ]
                }
            ],
            "source": [
                "# Extract top 3 actor names from the JSON-like column\n",
                "def extract_top_actors(cast_column):\n",
                "    try:\n",
                "        return [actor['name'] for actor in ast.literal_eval(cast_column)[:3]]  # Top 3 actors\n",
                "    except (ValueError, SyntaxError):\n",
                "        return []\n",
                "\n",
                "merged_data['cast'] = merged_data['cast'].apply(extract_top_actors)\n",
                "\n",
                "# Display processed cast\n",
                "print(\"Processed Cast:\")\n",
                "print(merged_data[['title', 'cast']].head())"
            ]
        },
        {
            "cell_type": "markdown",
            "metadata": {},
            "source": [
                "- Parse the `cast` column to extract the names of the top 3 actors for each movie.\n",
                "- These actors are the candidates for determining relevance by genre"
            ]
        },
        {
            "cell_type": "markdown",
            "metadata": {},
            "source": [
                "**FINAL DATASET STRUCTURE**\n",
                "After processing, the dataset will have:\n",
                "\n",
                "- `title`: Movie title (for reference).\n",
                "- `genres`: List of genres for the movie.\n",
                "- `cast`: Top 3 actors' names.\n",
                "\n",
                "This ensures the data is now prepared for further steps to analyze the relationship between genres and relevant actors."
            ]
        },
        {
            "cell_type": "markdown",
            "metadata": {},
            "source": [
                "<br>\n",
                "\n",
                "# **STEP 2: FEATURE ENGINEERING**"
            ]
        },
        {
            "cell_type": "markdown",
            "metadata": {},
            "source": [
                "**2.1. ENCODE `genres`**"
            ]
        },
        {
            "cell_type": "code",
            "execution_count": 6,
            "metadata": {},
            "outputs": [
                {
                    "name": "stdout",
                    "output_type": "stream",
                    "text": [
                        "Dataset with Encoded Genres:\n",
                        "                                      title  \\\n",
                        "0                                    Avatar   \n",
                        "1  Pirates of the Caribbean: At World's End   \n",
                        "2                                   Spectre   \n",
                        "3                     The Dark Knight Rises   \n",
                        "4                               John Carter   \n",
                        "\n",
                        "                                               cast  Action  Adventure  \\\n",
                        "0  [Sam Worthington, Zoe Saldana, Sigourney Weaver]       1          1   \n",
                        "1     [Johnny Depp, Orlando Bloom, Keira Knightley]       1          1   \n",
                        "2      [Daniel Craig, Christoph Waltz, Léa Seydoux]       1          1   \n",
                        "3      [Christian Bale, Michael Caine, Gary Oldman]       1          0   \n",
                        "4    [Taylor Kitsch, Lynn Collins, Samantha Morton]       1          1   \n",
                        "\n",
                        "   Animation  Comedy  Crime  Documentary  Drama  Family  ...  History  Horror  \\\n",
                        "0          0       0      0            0      0       0  ...        0       0   \n",
                        "1          0       0      0            0      0       0  ...        0       0   \n",
                        "2          0       0      1            0      0       0  ...        0       0   \n",
                        "3          0       0      1            0      1       0  ...        0       0   \n",
                        "4          0       0      0            0      0       0  ...        0       0   \n",
                        "\n",
                        "   Music  Mystery  Romance  Science Fiction  TV Movie  Thriller  War  Western  \n",
                        "0      0        0        0                1         0         0    0        0  \n",
                        "1      0        0        0                0         0         0    0        0  \n",
                        "2      0        0        0                0         0         0    0        0  \n",
                        "3      0        0        0                0         0         1    0        0  \n",
                        "4      0        0        0                1         0         0    0        0  \n",
                        "\n",
                        "[5 rows x 22 columns]\n"
                    ]
                }
            ],
            "source": [
                "mlb = MultiLabelBinarizer()\n",
                "genres_encoded = pd.DataFrame(mlb.fit_transform(merged_data['genres']), columns=mlb.classes_)\n",
                "\n",
                "# Add encoded genres back to the dataset\n",
                "merged_data = pd.concat([merged_data, genres_encoded], axis=1)\n",
                "\n",
                "# Drop the original 'genres' column\n",
                "merged_data.drop('genres', axis=1, inplace=True)\n",
                "\n",
                "# Display the dataset with encoded genres\n",
                "print(\"Dataset with Encoded Genres:\")\n",
                "print(merged_data.head())\n"
            ]
        },
        {
            "cell_type": "markdown",
            "metadata": {},
            "source": [
                "- Use `MultiLabelBinarizer` to one-hot encode the `genres` column.\n",
                "- Each genre becomes a separate binary feature (1 = present, 0 = absent)."
            ]
        },
        {
            "cell_type": "markdown",
            "metadata": {},
            "source": [
                "**2.2 CREATE ACTOR FEATURES**\n"
            ]
        },
        {
            "cell_type": "code",
            "execution_count": 7,
            "metadata": {},
            "outputs": [],
            "source": [
                "# Flatten the cast list into individual actor columns\n",
                "for i in range(3):\n",
                "    merged_data[f'actor_{i+1}'] = merged_data['cast'].apply(lambda x: x[i] if len(x) > i else None)\n",
                "\n",
                "# Drop the original 'cast' column\n",
                "merged_data.drop('cast', axis=1, inplace=True)\n",
                "\n"
            ]
        },
        {
            "cell_type": "code",
            "execution_count": 8,
            "metadata": {},
            "outputs": [
                {
                    "name": "stdout",
                    "output_type": "stream",
                    "text": [
                        "Dataset with Actor Features:\n"
                    ]
                },
                {
                    "data": {
                        "text/html": [
                            "<div>\n",
                            "<style scoped>\n",
                            "    .dataframe tbody tr th:only-of-type {\n",
                            "        vertical-align: middle;\n",
                            "    }\n",
                            "\n",
                            "    .dataframe tbody tr th {\n",
                            "        vertical-align: top;\n",
                            "    }\n",
                            "\n",
                            "    .dataframe thead th {\n",
                            "        text-align: right;\n",
                            "    }\n",
                            "</style>\n",
                            "<table border=\"1\" class=\"dataframe\">\n",
                            "  <thead>\n",
                            "    <tr style=\"text-align: right;\">\n",
                            "      <th></th>\n",
                            "      <th>title</th>\n",
                            "      <th>Action</th>\n",
                            "      <th>Adventure</th>\n",
                            "      <th>Animation</th>\n",
                            "      <th>Comedy</th>\n",
                            "      <th>Crime</th>\n",
                            "      <th>Documentary</th>\n",
                            "      <th>Drama</th>\n",
                            "      <th>Family</th>\n",
                            "      <th>Fantasy</th>\n",
                            "      <th>...</th>\n",
                            "      <th>Mystery</th>\n",
                            "      <th>Romance</th>\n",
                            "      <th>Science Fiction</th>\n",
                            "      <th>TV Movie</th>\n",
                            "      <th>Thriller</th>\n",
                            "      <th>War</th>\n",
                            "      <th>Western</th>\n",
                            "      <th>actor_1</th>\n",
                            "      <th>actor_2</th>\n",
                            "      <th>actor_3</th>\n",
                            "    </tr>\n",
                            "  </thead>\n",
                            "  <tbody>\n",
                            "    <tr>\n",
                            "      <th>0</th>\n",
                            "      <td>Avatar</td>\n",
                            "      <td>1</td>\n",
                            "      <td>1</td>\n",
                            "      <td>0</td>\n",
                            "      <td>0</td>\n",
                            "      <td>0</td>\n",
                            "      <td>0</td>\n",
                            "      <td>0</td>\n",
                            "      <td>0</td>\n",
                            "      <td>1</td>\n",
                            "      <td>...</td>\n",
                            "      <td>0</td>\n",
                            "      <td>0</td>\n",
                            "      <td>1</td>\n",
                            "      <td>0</td>\n",
                            "      <td>0</td>\n",
                            "      <td>0</td>\n",
                            "      <td>0</td>\n",
                            "      <td>Sam Worthington</td>\n",
                            "      <td>Zoe Saldana</td>\n",
                            "      <td>Sigourney Weaver</td>\n",
                            "    </tr>\n",
                            "    <tr>\n",
                            "      <th>1</th>\n",
                            "      <td>Pirates of the Caribbean: At World's End</td>\n",
                            "      <td>1</td>\n",
                            "      <td>1</td>\n",
                            "      <td>0</td>\n",
                            "      <td>0</td>\n",
                            "      <td>0</td>\n",
                            "      <td>0</td>\n",
                            "      <td>0</td>\n",
                            "      <td>0</td>\n",
                            "      <td>1</td>\n",
                            "      <td>...</td>\n",
                            "      <td>0</td>\n",
                            "      <td>0</td>\n",
                            "      <td>0</td>\n",
                            "      <td>0</td>\n",
                            "      <td>0</td>\n",
                            "      <td>0</td>\n",
                            "      <td>0</td>\n",
                            "      <td>Johnny Depp</td>\n",
                            "      <td>Orlando Bloom</td>\n",
                            "      <td>Keira Knightley</td>\n",
                            "    </tr>\n",
                            "    <tr>\n",
                            "      <th>2</th>\n",
                            "      <td>Spectre</td>\n",
                            "      <td>1</td>\n",
                            "      <td>1</td>\n",
                            "      <td>0</td>\n",
                            "      <td>0</td>\n",
                            "      <td>1</td>\n",
                            "      <td>0</td>\n",
                            "      <td>0</td>\n",
                            "      <td>0</td>\n",
                            "      <td>0</td>\n",
                            "      <td>...</td>\n",
                            "      <td>0</td>\n",
                            "      <td>0</td>\n",
                            "      <td>0</td>\n",
                            "      <td>0</td>\n",
                            "      <td>0</td>\n",
                            "      <td>0</td>\n",
                            "      <td>0</td>\n",
                            "      <td>Daniel Craig</td>\n",
                            "      <td>Christoph Waltz</td>\n",
                            "      <td>Léa Seydoux</td>\n",
                            "    </tr>\n",
                            "    <tr>\n",
                            "      <th>3</th>\n",
                            "      <td>The Dark Knight Rises</td>\n",
                            "      <td>1</td>\n",
                            "      <td>0</td>\n",
                            "      <td>0</td>\n",
                            "      <td>0</td>\n",
                            "      <td>1</td>\n",
                            "      <td>0</td>\n",
                            "      <td>1</td>\n",
                            "      <td>0</td>\n",
                            "      <td>0</td>\n",
                            "      <td>...</td>\n",
                            "      <td>0</td>\n",
                            "      <td>0</td>\n",
                            "      <td>0</td>\n",
                            "      <td>0</td>\n",
                            "      <td>1</td>\n",
                            "      <td>0</td>\n",
                            "      <td>0</td>\n",
                            "      <td>Christian Bale</td>\n",
                            "      <td>Michael Caine</td>\n",
                            "      <td>Gary Oldman</td>\n",
                            "    </tr>\n",
                            "    <tr>\n",
                            "      <th>4</th>\n",
                            "      <td>John Carter</td>\n",
                            "      <td>1</td>\n",
                            "      <td>1</td>\n",
                            "      <td>0</td>\n",
                            "      <td>0</td>\n",
                            "      <td>0</td>\n",
                            "      <td>0</td>\n",
                            "      <td>0</td>\n",
                            "      <td>0</td>\n",
                            "      <td>0</td>\n",
                            "      <td>...</td>\n",
                            "      <td>0</td>\n",
                            "      <td>0</td>\n",
                            "      <td>1</td>\n",
                            "      <td>0</td>\n",
                            "      <td>0</td>\n",
                            "      <td>0</td>\n",
                            "      <td>0</td>\n",
                            "      <td>Taylor Kitsch</td>\n",
                            "      <td>Lynn Collins</td>\n",
                            "      <td>Samantha Morton</td>\n",
                            "    </tr>\n",
                            "  </tbody>\n",
                            "</table>\n",
                            "<p>5 rows × 24 columns</p>\n",
                            "</div>"
                        ],
                        "text/plain": [
                            "                                      title  Action  Adventure  Animation  \\\n",
                            "0                                    Avatar       1          1          0   \n",
                            "1  Pirates of the Caribbean: At World's End       1          1          0   \n",
                            "2                                   Spectre       1          1          0   \n",
                            "3                     The Dark Knight Rises       1          0          0   \n",
                            "4                               John Carter       1          1          0   \n",
                            "\n",
                            "   Comedy  Crime  Documentary  Drama  Family  Fantasy  ...  Mystery  Romance  \\\n",
                            "0       0      0            0      0       0        1  ...        0        0   \n",
                            "1       0      0            0      0       0        1  ...        0        0   \n",
                            "2       0      1            0      0       0        0  ...        0        0   \n",
                            "3       0      1            0      1       0        0  ...        0        0   \n",
                            "4       0      0            0      0       0        0  ...        0        0   \n",
                            "\n",
                            "   Science Fiction  TV Movie  Thriller  War  Western          actor_1  \\\n",
                            "0                1         0         0    0        0  Sam Worthington   \n",
                            "1                0         0         0    0        0      Johnny Depp   \n",
                            "2                0         0         0    0        0     Daniel Craig   \n",
                            "3                0         0         1    0        0   Christian Bale   \n",
                            "4                1         0         0    0        0    Taylor Kitsch   \n",
                            "\n",
                            "           actor_2           actor_3  \n",
                            "0      Zoe Saldana  Sigourney Weaver  \n",
                            "1    Orlando Bloom   Keira Knightley  \n",
                            "2  Christoph Waltz       Léa Seydoux  \n",
                            "3    Michael Caine       Gary Oldman  \n",
                            "4     Lynn Collins   Samantha Morton  \n",
                            "\n",
                            "[5 rows x 24 columns]"
                        ]
                    },
                    "execution_count": 8,
                    "metadata": {},
                    "output_type": "execute_result"
                }
            ],
            "source": [
                "# Display dataset with actor columns\n",
                "print(\"Dataset with Actor Features:\")\n",
                "merged_data.head()"
            ]
        },
        {
            "cell_type": "markdown",
            "metadata": {},
            "source": [
                "- Extract the top 3 actors from the `cast` column into separate columns (`actor_1`, `actor_2`, `actor_3`).\n",
                "- Simplifies analysis by making actor data explicit."
            ]
        },
        {
            "cell_type": "markdown",
            "metadata": {},
            "source": [
                "**2.3 ASSIGN GENRE-SPECIFIC ACTOR RELEVANCE**"
            ]
        },
        {
            "cell_type": "code",
            "execution_count": 9,
            "metadata": {},
            "outputs": [],
            "source": [
                "# Create a helper DataFrame to track actor relevance by genre\n",
                "actor_genre_relevance = merged_data.melt(id_vars=mlb.classes_, value_vars=['actor_1', 'actor_2', 'actor_3'], \n",
                "                                         var_name='actor_position', value_name='actor')\n",
                "\n",
                "# Drop rows where 'actor' is NaN\n",
                "actor_genre_relevance.dropna(subset=['actor'], inplace=True)\n",
                "\n"
            ]
        },
        {
            "cell_type": "code",
            "execution_count": 10,
            "metadata": {},
            "outputs": [
                {
                    "name": "stdout",
                    "output_type": "stream",
                    "text": [
                        "ACTOR-GENRE RELEVANCE DataFrame:\n"
                    ]
                },
                {
                    "data": {
                        "text/html": [
                            "<div>\n",
                            "<style scoped>\n",
                            "    .dataframe tbody tr th:only-of-type {\n",
                            "        vertical-align: middle;\n",
                            "    }\n",
                            "\n",
                            "    .dataframe tbody tr th {\n",
                            "        vertical-align: top;\n",
                            "    }\n",
                            "\n",
                            "    .dataframe thead th {\n",
                            "        text-align: right;\n",
                            "    }\n",
                            "</style>\n",
                            "<table border=\"1\" class=\"dataframe\">\n",
                            "  <thead>\n",
                            "    <tr style=\"text-align: right;\">\n",
                            "      <th></th>\n",
                            "      <th>Action</th>\n",
                            "      <th>Adventure</th>\n",
                            "      <th>Animation</th>\n",
                            "      <th>Comedy</th>\n",
                            "      <th>Crime</th>\n",
                            "      <th>Documentary</th>\n",
                            "      <th>Drama</th>\n",
                            "      <th>Family</th>\n",
                            "      <th>Fantasy</th>\n",
                            "      <th>Foreign</th>\n",
                            "      <th>...</th>\n",
                            "      <th>Music</th>\n",
                            "      <th>Mystery</th>\n",
                            "      <th>Romance</th>\n",
                            "      <th>Science Fiction</th>\n",
                            "      <th>TV Movie</th>\n",
                            "      <th>Thriller</th>\n",
                            "      <th>War</th>\n",
                            "      <th>Western</th>\n",
                            "      <th>actor_position</th>\n",
                            "      <th>actor</th>\n",
                            "    </tr>\n",
                            "  </thead>\n",
                            "  <tbody>\n",
                            "    <tr>\n",
                            "      <th>0</th>\n",
                            "      <td>1</td>\n",
                            "      <td>1</td>\n",
                            "      <td>0</td>\n",
                            "      <td>0</td>\n",
                            "      <td>0</td>\n",
                            "      <td>0</td>\n",
                            "      <td>0</td>\n",
                            "      <td>0</td>\n",
                            "      <td>1</td>\n",
                            "      <td>0</td>\n",
                            "      <td>...</td>\n",
                            "      <td>0</td>\n",
                            "      <td>0</td>\n",
                            "      <td>0</td>\n",
                            "      <td>1</td>\n",
                            "      <td>0</td>\n",
                            "      <td>0</td>\n",
                            "      <td>0</td>\n",
                            "      <td>0</td>\n",
                            "      <td>actor_1</td>\n",
                            "      <td>Sam Worthington</td>\n",
                            "    </tr>\n",
                            "    <tr>\n",
                            "      <th>1</th>\n",
                            "      <td>1</td>\n",
                            "      <td>1</td>\n",
                            "      <td>0</td>\n",
                            "      <td>0</td>\n",
                            "      <td>0</td>\n",
                            "      <td>0</td>\n",
                            "      <td>0</td>\n",
                            "      <td>0</td>\n",
                            "      <td>1</td>\n",
                            "      <td>0</td>\n",
                            "      <td>...</td>\n",
                            "      <td>0</td>\n",
                            "      <td>0</td>\n",
                            "      <td>0</td>\n",
                            "      <td>0</td>\n",
                            "      <td>0</td>\n",
                            "      <td>0</td>\n",
                            "      <td>0</td>\n",
                            "      <td>0</td>\n",
                            "      <td>actor_1</td>\n",
                            "      <td>Johnny Depp</td>\n",
                            "    </tr>\n",
                            "    <tr>\n",
                            "      <th>2</th>\n",
                            "      <td>1</td>\n",
                            "      <td>1</td>\n",
                            "      <td>0</td>\n",
                            "      <td>0</td>\n",
                            "      <td>1</td>\n",
                            "      <td>0</td>\n",
                            "      <td>0</td>\n",
                            "      <td>0</td>\n",
                            "      <td>0</td>\n",
                            "      <td>0</td>\n",
                            "      <td>...</td>\n",
                            "      <td>0</td>\n",
                            "      <td>0</td>\n",
                            "      <td>0</td>\n",
                            "      <td>0</td>\n",
                            "      <td>0</td>\n",
                            "      <td>0</td>\n",
                            "      <td>0</td>\n",
                            "      <td>0</td>\n",
                            "      <td>actor_1</td>\n",
                            "      <td>Daniel Craig</td>\n",
                            "    </tr>\n",
                            "    <tr>\n",
                            "      <th>3</th>\n",
                            "      <td>1</td>\n",
                            "      <td>0</td>\n",
                            "      <td>0</td>\n",
                            "      <td>0</td>\n",
                            "      <td>1</td>\n",
                            "      <td>0</td>\n",
                            "      <td>1</td>\n",
                            "      <td>0</td>\n",
                            "      <td>0</td>\n",
                            "      <td>0</td>\n",
                            "      <td>...</td>\n",
                            "      <td>0</td>\n",
                            "      <td>0</td>\n",
                            "      <td>0</td>\n",
                            "      <td>0</td>\n",
                            "      <td>0</td>\n",
                            "      <td>1</td>\n",
                            "      <td>0</td>\n",
                            "      <td>0</td>\n",
                            "      <td>actor_1</td>\n",
                            "      <td>Christian Bale</td>\n",
                            "    </tr>\n",
                            "    <tr>\n",
                            "      <th>4</th>\n",
                            "      <td>1</td>\n",
                            "      <td>1</td>\n",
                            "      <td>0</td>\n",
                            "      <td>0</td>\n",
                            "      <td>0</td>\n",
                            "      <td>0</td>\n",
                            "      <td>0</td>\n",
                            "      <td>0</td>\n",
                            "      <td>0</td>\n",
                            "      <td>0</td>\n",
                            "      <td>...</td>\n",
                            "      <td>0</td>\n",
                            "      <td>0</td>\n",
                            "      <td>0</td>\n",
                            "      <td>1</td>\n",
                            "      <td>0</td>\n",
                            "      <td>0</td>\n",
                            "      <td>0</td>\n",
                            "      <td>0</td>\n",
                            "      <td>actor_1</td>\n",
                            "      <td>Taylor Kitsch</td>\n",
                            "    </tr>\n",
                            "  </tbody>\n",
                            "</table>\n",
                            "<p>5 rows × 22 columns</p>\n",
                            "</div>"
                        ],
                        "text/plain": [
                            "   Action  Adventure  Animation  Comedy  Crime  Documentary  Drama  Family  \\\n",
                            "0       1          1          0       0      0            0      0       0   \n",
                            "1       1          1          0       0      0            0      0       0   \n",
                            "2       1          1          0       0      1            0      0       0   \n",
                            "3       1          0          0       0      1            0      1       0   \n",
                            "4       1          1          0       0      0            0      0       0   \n",
                            "\n",
                            "   Fantasy  Foreign  ...  Music  Mystery  Romance  Science Fiction  TV Movie  \\\n",
                            "0        1        0  ...      0        0        0                1         0   \n",
                            "1        1        0  ...      0        0        0                0         0   \n",
                            "2        0        0  ...      0        0        0                0         0   \n",
                            "3        0        0  ...      0        0        0                0         0   \n",
                            "4        0        0  ...      0        0        0                1         0   \n",
                            "\n",
                            "   Thriller  War  Western  actor_position            actor  \n",
                            "0         0    0        0         actor_1  Sam Worthington  \n",
                            "1         0    0        0         actor_1      Johnny Depp  \n",
                            "2         0    0        0         actor_1     Daniel Craig  \n",
                            "3         1    0        0         actor_1   Christian Bale  \n",
                            "4         0    0        0         actor_1    Taylor Kitsch  \n",
                            "\n",
                            "[5 rows x 22 columns]"
                        ]
                    },
                    "execution_count": 10,
                    "metadata": {},
                    "output_type": "execute_result"
                }
            ],
            "source": [
                "# Display the actor-genre mapping\n",
                "print(\"ACTOR-GENRE RELEVANCE DataFrame:\")\n",
                "actor_genre_relevance.head()"
            ]
        },
        {
            "cell_type": "markdown",
            "metadata": {},
            "source": [
                "- Create a mapping between genres and actors.\n",
                "- Use the `melt` function to transform actor columns into rows, associating each actor with their respective genres.\n"
            ]
        },
        {
            "cell_type": "markdown",
            "metadata": {},
            "source": [
                "**2.4. GENERATE TRAINIG DATASET**"
            ]
        },
        {
            "cell_type": "code",
            "execution_count": 11,
            "metadata": {},
            "outputs": [],
            "source": [
                "# Use only the columns available in actor_genre_relevance\n",
                "group_columns = ['actor']  # Start with actor as the primary group\n",
                "if set(mlb.classes_).issubset(actor_genre_relevance.columns):  # Check if genre columns exist\n",
                "    group_columns += list(mlb.classes_)\n",
                "\n",
                "# Aggregate actor appearances across genres\n",
                "actor_genre_count = actor_genre_relevance.groupby(group_columns).size().reset_index(name='count')\n",
                "\n",
                "# Filter out less relevant actors (e.g., threshold of appearances)\n",
                "threshold = 2\n",
                "actor_genre_count = actor_genre_count[actor_genre_count['count'] >= threshold]\n"
            ]
        },
        {
            "cell_type": "code",
            "execution_count": 12,
            "metadata": {},
            "outputs": [
                {
                    "name": "stdout",
                    "output_type": "stream",
                    "text": [
                        "Training Dataset:\n"
                    ]
                },
                {
                    "data": {
                        "text/html": [
                            "<div>\n",
                            "<style scoped>\n",
                            "    .dataframe tbody tr th:only-of-type {\n",
                            "        vertical-align: middle;\n",
                            "    }\n",
                            "\n",
                            "    .dataframe tbody tr th {\n",
                            "        vertical-align: top;\n",
                            "    }\n",
                            "\n",
                            "    .dataframe thead th {\n",
                            "        text-align: right;\n",
                            "    }\n",
                            "</style>\n",
                            "<table border=\"1\" class=\"dataframe\">\n",
                            "  <thead>\n",
                            "    <tr style=\"text-align: right;\">\n",
                            "      <th></th>\n",
                            "      <th>actor</th>\n",
                            "      <th>Action</th>\n",
                            "      <th>Adventure</th>\n",
                            "      <th>Animation</th>\n",
                            "      <th>Comedy</th>\n",
                            "      <th>Crime</th>\n",
                            "      <th>Documentary</th>\n",
                            "      <th>Drama</th>\n",
                            "      <th>Family</th>\n",
                            "      <th>Fantasy</th>\n",
                            "      <th>...</th>\n",
                            "      <th>Horror</th>\n",
                            "      <th>Music</th>\n",
                            "      <th>Mystery</th>\n",
                            "      <th>Romance</th>\n",
                            "      <th>Science Fiction</th>\n",
                            "      <th>TV Movie</th>\n",
                            "      <th>Thriller</th>\n",
                            "      <th>War</th>\n",
                            "      <th>Western</th>\n",
                            "      <th>count</th>\n",
                            "    </tr>\n",
                            "  </thead>\n",
                            "  <tbody>\n",
                            "    <tr>\n",
                            "      <th>9</th>\n",
                            "      <td>Aamir Khan</td>\n",
                            "      <td>0</td>\n",
                            "      <td>0</td>\n",
                            "      <td>0</td>\n",
                            "      <td>0</td>\n",
                            "      <td>0</td>\n",
                            "      <td>0</td>\n",
                            "      <td>1</td>\n",
                            "      <td>0</td>\n",
                            "      <td>0</td>\n",
                            "      <td>...</td>\n",
                            "      <td>0</td>\n",
                            "      <td>0</td>\n",
                            "      <td>0</td>\n",
                            "      <td>0</td>\n",
                            "      <td>0</td>\n",
                            "      <td>0</td>\n",
                            "      <td>0</td>\n",
                            "      <td>0</td>\n",
                            "      <td>0</td>\n",
                            "      <td>2</td>\n",
                            "    </tr>\n",
                            "    <tr>\n",
                            "      <th>13</th>\n",
                            "      <td>Aaron Eckhart</td>\n",
                            "      <td>0</td>\n",
                            "      <td>0</td>\n",
                            "      <td>0</td>\n",
                            "      <td>0</td>\n",
                            "      <td>0</td>\n",
                            "      <td>0</td>\n",
                            "      <td>1</td>\n",
                            "      <td>0</td>\n",
                            "      <td>0</td>\n",
                            "      <td>...</td>\n",
                            "      <td>0</td>\n",
                            "      <td>0</td>\n",
                            "      <td>0</td>\n",
                            "      <td>0</td>\n",
                            "      <td>0</td>\n",
                            "      <td>0</td>\n",
                            "      <td>0</td>\n",
                            "      <td>0</td>\n",
                            "      <td>0</td>\n",
                            "      <td>4</td>\n",
                            "    </tr>\n",
                            "    <tr>\n",
                            "      <th>14</th>\n",
                            "      <td>Aaron Eckhart</td>\n",
                            "      <td>0</td>\n",
                            "      <td>0</td>\n",
                            "      <td>0</td>\n",
                            "      <td>0</td>\n",
                            "      <td>0</td>\n",
                            "      <td>0</td>\n",
                            "      <td>1</td>\n",
                            "      <td>0</td>\n",
                            "      <td>0</td>\n",
                            "      <td>...</td>\n",
                            "      <td>0</td>\n",
                            "      <td>0</td>\n",
                            "      <td>0</td>\n",
                            "      <td>1</td>\n",
                            "      <td>0</td>\n",
                            "      <td>0</td>\n",
                            "      <td>0</td>\n",
                            "      <td>0</td>\n",
                            "      <td>0</td>\n",
                            "      <td>2</td>\n",
                            "    </tr>\n",
                            "    <tr>\n",
                            "      <th>18</th>\n",
                            "      <td>Aaron Eckhart</td>\n",
                            "      <td>0</td>\n",
                            "      <td>0</td>\n",
                            "      <td>0</td>\n",
                            "      <td>1</td>\n",
                            "      <td>0</td>\n",
                            "      <td>0</td>\n",
                            "      <td>1</td>\n",
                            "      <td>0</td>\n",
                            "      <td>0</td>\n",
                            "      <td>...</td>\n",
                            "      <td>0</td>\n",
                            "      <td>0</td>\n",
                            "      <td>0</td>\n",
                            "      <td>0</td>\n",
                            "      <td>0</td>\n",
                            "      <td>0</td>\n",
                            "      <td>0</td>\n",
                            "      <td>0</td>\n",
                            "      <td>0</td>\n",
                            "      <td>2</td>\n",
                            "    </tr>\n",
                            "    <tr>\n",
                            "      <th>31</th>\n",
                            "      <td>Aaron Taylor-Johnson</td>\n",
                            "      <td>0</td>\n",
                            "      <td>0</td>\n",
                            "      <td>0</td>\n",
                            "      <td>0</td>\n",
                            "      <td>0</td>\n",
                            "      <td>0</td>\n",
                            "      <td>1</td>\n",
                            "      <td>0</td>\n",
                            "      <td>0</td>\n",
                            "      <td>...</td>\n",
                            "      <td>0</td>\n",
                            "      <td>0</td>\n",
                            "      <td>0</td>\n",
                            "      <td>0</td>\n",
                            "      <td>0</td>\n",
                            "      <td>0</td>\n",
                            "      <td>0</td>\n",
                            "      <td>0</td>\n",
                            "      <td>0</td>\n",
                            "      <td>2</td>\n",
                            "    </tr>\n",
                            "  </tbody>\n",
                            "</table>\n",
                            "<p>5 rows × 22 columns</p>\n",
                            "</div>"
                        ],
                        "text/plain": [
                            "                   actor  Action  Adventure  Animation  Comedy  Crime  \\\n",
                            "9             Aamir Khan       0          0          0       0      0   \n",
                            "13         Aaron Eckhart       0          0          0       0      0   \n",
                            "14         Aaron Eckhart       0          0          0       0      0   \n",
                            "18         Aaron Eckhart       0          0          0       1      0   \n",
                            "31  Aaron Taylor-Johnson       0          0          0       0      0   \n",
                            "\n",
                            "    Documentary  Drama  Family  Fantasy  ...  Horror  Music  Mystery  Romance  \\\n",
                            "9             0      1       0        0  ...       0      0        0        0   \n",
                            "13            0      1       0        0  ...       0      0        0        0   \n",
                            "14            0      1       0        0  ...       0      0        0        1   \n",
                            "18            0      1       0        0  ...       0      0        0        0   \n",
                            "31            0      1       0        0  ...       0      0        0        0   \n",
                            "\n",
                            "    Science Fiction  TV Movie  Thriller  War  Western  count  \n",
                            "9                 0         0         0    0        0      2  \n",
                            "13                0         0         0    0        0      4  \n",
                            "14                0         0         0    0        0      2  \n",
                            "18                0         0         0    0        0      2  \n",
                            "31                0         0         0    0        0      2  \n",
                            "\n",
                            "[5 rows x 22 columns]"
                        ]
                    },
                    "execution_count": 12,
                    "metadata": {},
                    "output_type": "execute_result"
                }
            ],
            "source": [
                "# Display the final training dataset\n",
                "print(\"Training Dataset:\")\n",
                "actor_genre_count.head()"
            ]
        },
        {
            "cell_type": "markdown",
            "metadata": {},
            "source": [
                "**Final Output:**\n",
                "\n",
                "- **Dataset for Modeling**: `actor_genre_count` contains the relationship between `actors` and `genres`.\n",
                "- The model can now use this data to predict which actors are most relevant to a given genre."
            ]
        },
        {
            "cell_type": "markdown",
            "metadata": {},
            "source": [
                "<br>\n",
                "\n",
                "# **STEP 3: MODEL TRAINING**"
            ]
        },
        {
            "cell_type": "markdown",
            "metadata": {},
            "source": [
                "**3.1. SPLIT THE DATASET**"
            ]
        },
        {
            "cell_type": "code",
            "execution_count": 13,
            "metadata": {},
            "outputs": [
                {
                    "name": "stdout",
                    "output_type": "stream",
                    "text": [
                        "Train Features Shape: (823, 20)\n",
                        "Train Target Shape: (823,)\n",
                        "Test Features Shape: (206, 20)\n",
                        "Test Target Shape: (206,)\n"
                    ]
                }
            ],
            "source": [
                "# Define features (X) and target (y)\n",
                "X = actor_genre_count.drop(['actor', 'count'], axis=1)  # Features: genres\n",
                "y = actor_genre_count['count']  # Target: actor relevance count\n",
                "\n",
                "# Split the dataset into training and testing sets (80% train, 20% test)\n",
                "X_train, X_test, y_train, y_test = train_test_split(X, y, test_size=0.2, random_state=42)\n",
                "\n",
                "# Display shapes of the splits\n",
                "print(\"Train Features Shape:\", X_train.shape)\n",
                "print(\"Train Target Shape:\", y_train.shape)\n",
                "print(\"Test Features Shape:\", X_test.shape)\n",
                "print(\"Test Target Shape:\", y_test.shape)\n"
            ]
        },
        {
            "cell_type": "markdown",
            "metadata": {},
            "source": [
                "- The dataset is split into **training** and **testing** sets.\n",
                "- **X** contains the genre features, while **y** is the target (actor relevance count).\n",
                "- The split ensures the model can be evaluated on unseen data."
            ]
        },
        {
            "cell_type": "markdown",
            "metadata": {},
            "source": [
                "**3.2 CHOOSE AND TRAIN A MODEL**"
            ]
        },
        {
            "cell_type": "code",
            "execution_count": 14,
            "metadata": {},
            "outputs": [
                {
                    "name": "stdout",
                    "output_type": "stream",
                    "text": [
                        "Model Coefficients:\n",
                        "Action: 0.2792\n",
                        "Adventure: -0.7015\n",
                        "Animation: -0.4509\n",
                        "Comedy: 0.2233\n",
                        "Crime: 0.4964\n",
                        "Documentary: -0.0258\n",
                        "Drama: 0.3286\n",
                        "Family: 0.2306\n",
                        "Fantasy: 0.3317\n",
                        "Foreign: 0.0000\n",
                        "History: 0.3639\n",
                        "Horror: 0.4303\n",
                        "Music: 0.1749\n",
                        "Mystery: 0.4723\n",
                        "Romance: 0.0162\n",
                        "Science Fiction: -0.0329\n",
                        "TV Movie: 0.0000\n",
                        "Thriller: 0.0305\n",
                        "War: -0.1880\n",
                        "Western: -0.1586\n"
                    ]
                }
            ],
            "source": [
                "# Initialize Logistic Regression with class_weight='balanced'\n",
                "model = LogisticRegression(\n",
                "    max_iter=1000,           # Allow the model to converge with enough iterations\n",
                "    solver='liblinear',      # Lightweight solver suitable for smaller datasets\n",
                "    class_weight='balanced'  # Adjust weights inversely proportional to class frequency\n",
                ")\n",
                "\n",
                "# Train the model on the training set\n",
                "model.fit(X_train, y_train)\n",
                "\n",
                "# Display model coefficients for insight\n",
                "print(\"Model Coefficients:\")\n",
                "for genre, coef in zip(X_train.columns, model.coef_[0]):\n",
                "    print(f\"{genre}: {coef:.4f}\")\n"
            ]
        },
        {
            "cell_type": "markdown",
            "metadata": {},
            "source": [
                "- Logistic Regression is chosen for its lightweight nature and suitability for classification.\n",
                "- The model learns to predict the relevance of actors based on genres."
            ]
        },
        {
            "cell_type": "markdown",
            "metadata": {},
            "source": [
                "**3.3 EVALUATE THE MODEL**"
            ]
        },
        {
            "cell_type": "code",
            "execution_count": 15,
            "metadata": {},
            "outputs": [
                {
                    "name": "stdout",
                    "output_type": "stream",
                    "text": [
                        "Model Evaluation Metrics:\n",
                        "Accuracy: 0.54\n",
                        "Precision: 0.75\n",
                        "Recall: 0.54\n",
                        "F1 Score: 0.55\n"
                    ]
                }
            ],
            "source": [
                "# Make predictions on the test set\n",
                "y_pred = model.predict(X_test)\n",
                "\n",
                "# Calculate evaluation metrics (handle zero division in precision/recall)\n",
                "accuracy = accuracy_score(y_test, y_pred)\n",
                "precision = precision_score(y_test, y_pred, average='weighted', zero_division=0)\n",
                "recall = recall_score(y_test, y_pred, average='weighted', zero_division=0)\n",
                "f1 = f1_score(y_test, y_pred, average='weighted', zero_division=0)\n",
                "\n",
                "# Display evaluation metrics\n",
                "print(\"Model Evaluation Metrics:\")\n",
                "print(f\"Accuracy: {accuracy:.2f}\")\n",
                "print(f\"Precision: {precision:.2f}\")\n",
                "print(f\"Recall: {recall:.2f}\")\n",
                "print(f\"F1 Score: {f1:.2f}\")\n"
            ]
        },
        {
            "cell_type": "code",
            "execution_count": 16,
            "metadata": {},
            "outputs": [
                {
                    "name": "stdout",
                    "output_type": "stream",
                    "text": [
                        "Model saved as 'actor_relevance_model.pkl'\n"
                    ]
                }
            ],
            "source": [
                "# Save the trained model to a file\n",
                "with open('actor_relevance_model.pkl', 'wb') as file:\n",
                "    pickle.dump(model, file)\n",
                "\n",
                "print(\"Model saved as 'actor_relevance_model.pkl'\")\n"
            ]
        },
        {
            "cell_type": "markdown",
            "metadata": {},
            "source": [
                "<br>\n",
                "\n",
                "# **STEP 4: SAVE AND SERIALIZE THE MODEL**"
            ]
        },
        {
            "cell_type": "markdown",
            "metadata": {},
            "source": [
                "**4.1. SAVE THE TRAINED MODEL**"
            ]
        },
        {
            "cell_type": "code",
            "execution_count": 17,
            "metadata": {},
            "outputs": [
                {
                    "name": "stdout",
                    "output_type": "stream",
                    "text": [
                        "Model saved as 'actor_relevance_model.pkl'\n"
                    ]
                }
            ],
            "source": [
                "# Save the trained model to a .pkl file\n",
                "with open('actor_relevance_model.pkl', 'wb') as file:\n",
                "    pickle.dump(model, file)\n",
                "\n",
                "print(\"Model saved as 'actor_relevance_model.pkl'\")\n"
            ]
        },
        {
            "cell_type": "markdown",
            "metadata": {},
            "source": [
                "- The trained Logistic Regression model is serialized using `pickle` and saved as a `.pkl` file.\n",
                "- This file will be used later in the Flask application to load the model and make predictions."
            ]
        },
        {
            "cell_type": "markdown",
            "metadata": {},
            "source": [
                "**4.2. VERIFY THE MODEL FILE**"
            ]
        },
        {
            "cell_type": "code",
            "execution_count": 18,
            "metadata": {},
            "outputs": [
                {
                    "name": "stdout",
                    "output_type": "stream",
                    "text": [
                        "Loaded Model Coefficients:\n",
                        "Action: 0.2792\n",
                        "Adventure: -0.7015\n",
                        "Animation: -0.4509\n",
                        "Comedy: 0.2233\n",
                        "Crime: 0.4964\n",
                        "Documentary: -0.0258\n",
                        "Drama: 0.3286\n",
                        "Family: 0.2306\n",
                        "Fantasy: 0.3317\n",
                        "Foreign: 0.0000\n",
                        "History: 0.3639\n",
                        "Horror: 0.4303\n",
                        "Music: 0.1749\n",
                        "Mystery: 0.4723\n",
                        "Romance: 0.0162\n",
                        "Science Fiction: -0.0329\n",
                        "TV Movie: 0.0000\n",
                        "Thriller: 0.0305\n",
                        "War: -0.1880\n",
                        "Western: -0.1586\n"
                    ]
                }
            ],
            "source": [
                "# Check the saved model file\n",
                "with open('actor_relevance_model.pkl', 'rb') as file:\n",
                "    loaded_model = pickle.load(file)\n",
                "\n",
                "# Ensure the loaded model matches the original one\n",
                "print(\"Loaded Model Coefficients:\")\n",
                "for genre, coef in zip(X_train.columns, loaded_model.coef_[0]):\n",
                "    print(f\"{genre}: {coef:.4f}\")"
            ]
        },
        {
            "cell_type": "markdown",
            "metadata": {},
            "source": [
                "This step ensures the model was saved correctly by reloading it and checking that the coefficients match the original model."
            ]
        },
        {
            "cell_type": "markdown",
            "metadata": {},
            "source": [
                "<br>\n",
                "\n",
                "# **"
            ]
        },
        {
            "cell_type": "code",
            "execution_count": null,
            "metadata": {},
            "outputs": [],
            "source": []
        }
    ],
    "metadata": {
        "kernelspec": {
            "display_name": "Python 3",
            "language": "python",
            "name": "python3"
        },
        "language_info": {
            "codemirror_mode": {
                "name": "ipython",
                "version": 3
            },
            "file_extension": ".py",
            "mimetype": "text/x-python",
            "name": "python",
            "nbconvert_exporter": "python",
            "pygments_lexer": "ipython3",
            "version": "3.12.6"
        },
        "orig_nbformat": 4
    },
    "nbformat": 4,
    "nbformat_minor": 2
}
