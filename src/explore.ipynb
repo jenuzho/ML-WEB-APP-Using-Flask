{
    "cells": [
        {
            "cell_type": "markdown",
            "metadata": {},
            "source": [
                "# **PREDICTING RELEVANT ACTORS FOR A GENRE**\n",
                "\n",
                "<br>\n",
                "\n",
                "<br>"
            ]
        },
        {
            "cell_type": "markdown",
            "metadata": {},
            "source": [
                "**1.1. LIBRARY IMPORTING**"
            ]
        },
        {
            "cell_type": "code",
            "execution_count": 68,
            "metadata": {},
            "outputs": [],
            "source": [
                "import pandas as pd\n",
                "import ast\n",
                "from sklearn.preprocessing import MultiLabelBinarizer\n"
            ]
        },
        {
            "cell_type": "markdown",
            "metadata": {},
            "source": [
                "**1.2. LOAD DATASETS**"
            ]
        },
        {
            "cell_type": "code",
            "execution_count": 69,
            "metadata": {},
            "outputs": [
                {
                    "name": "stdout",
                    "output_type": "stream",
                    "text": [
                        "Movies Dataset Columns:\n",
                        "Index(['budget', 'genres', 'homepage', 'id', 'keywords', 'original_language',\n",
                        "       'original_title', 'overview', 'popularity', 'production_companies',\n",
                        "       'production_countries', 'release_date', 'revenue', 'runtime',\n",
                        "       'spoken_languages', 'status', 'tagline', 'title', 'vote_average',\n",
                        "       'vote_count'],\n",
                        "      dtype='object')\n",
                        "\n",
                        "Credits Dataset Columns:\n",
                        "Index(['movie_id', 'title', 'cast', 'crew'], dtype='object')\n"
                    ]
                }
            ],
            "source": [
                "# Load the datasets\n",
                "movies = pd.read_csv(\"https://raw.githubusercontent.com/4GeeksAcademy/k-nearest-neighbors-project-tutorial/main/tmdb_5000_movies.csv\")\n",
                "credits = pd.read_csv(\"https://raw.githubusercontent.com/4GeeksAcademy/k-nearest-neighbors-project-tutorial/main/tmdb_5000_credits.csv\")\n",
                "\n",
                "# Display basic information about the datasets\n",
                "print(\"Movies Dataset Columns:\")\n",
                "print(movies.columns)\n",
                "\n",
                "print(\"\\nCredits Dataset Columns:\")\n",
                "print(credits.columns)\n"
            ]
        },
        {
            "cell_type": "markdown",
            "metadata": {},
            "source": [
                "**1.3.  MERGE THE DATASETS**"
            ]
        },
        {
            "cell_type": "code",
            "execution_count": 70,
            "metadata": {},
            "outputs": [
                {
                    "name": "stdout",
                    "output_type": "stream",
                    "text": [
                        "Merged Dataset:\n",
                        "                                      title  \\\n",
                        "0                                    Avatar   \n",
                        "1  Pirates of the Caribbean: At World's End   \n",
                        "2                                   Spectre   \n",
                        "3                     The Dark Knight Rises   \n",
                        "4                               John Carter   \n",
                        "\n",
                        "                                              genres  \\\n",
                        "0  [{\"id\": 28, \"name\": \"Action\"}, {\"id\": 12, \"nam...   \n",
                        "1  [{\"id\": 12, \"name\": \"Adventure\"}, {\"id\": 14, \"...   \n",
                        "2  [{\"id\": 28, \"name\": \"Action\"}, {\"id\": 12, \"nam...   \n",
                        "3  [{\"id\": 28, \"name\": \"Action\"}, {\"id\": 80, \"nam...   \n",
                        "4  [{\"id\": 28, \"name\": \"Action\"}, {\"id\": 12, \"nam...   \n",
                        "\n",
                        "                                                cast  \n",
                        "0  [{\"cast_id\": 242, \"character\": \"Jake Sully\", \"...  \n",
                        "1  [{\"cast_id\": 4, \"character\": \"Captain Jack Spa...  \n",
                        "2  [{\"cast_id\": 1, \"character\": \"James Bond\", \"cr...  \n",
                        "3  [{\"cast_id\": 2, \"character\": \"Bruce Wayne / Ba...  \n",
                        "4  [{\"cast_id\": 5, \"character\": \"John Carter\", \"c...  \n"
                    ]
                }
            ],
            "source": [
                "# Merge the datasets on the 'title' column\n",
                "merged_data = pd.merge(movies, credits, on=\"title\")\n",
                "\n",
                "# Retain only relevant columns\n",
                "columns_to_keep = ['title', 'genres', 'cast']\n",
                "merged_data = merged_data[columns_to_keep]\n",
                "\n",
                "# Display merged dataset\n",
                "print(\"Merged Dataset:\")\n",
                "print(merged_data.head())"
            ]
        },
        {
            "cell_type": "markdown",
            "metadata": {},
            "source": [
                "- Merge the datasets to unify the `genres` and `cast` columns for each movie.\n",
                "- Keep only the columns necessary for analyzing genres and cast, which are critical for the model."
            ]
        },
        {
            "cell_type": "markdown",
            "metadata": {},
            "source": [
                "**1.4. PROCESS GENRES**"
            ]
        },
        {
            "cell_type": "code",
            "execution_count": 71,
            "metadata": {},
            "outputs": [
                {
                    "name": "stdout",
                    "output_type": "stream",
                    "text": [
                        "Processed Genres:\n",
                        "                                      title  \\\n",
                        "0                                    Avatar   \n",
                        "1  Pirates of the Caribbean: At World's End   \n",
                        "2                                   Spectre   \n",
                        "3                     The Dark Knight Rises   \n",
                        "4                               John Carter   \n",
                        "\n",
                        "                                          genres  \n",
                        "0  [Action, Adventure, Fantasy, Science Fiction]  \n",
                        "1                   [Adventure, Fantasy, Action]  \n",
                        "2                     [Action, Adventure, Crime]  \n",
                        "3               [Action, Crime, Drama, Thriller]  \n",
                        "4           [Action, Adventure, Science Fiction]  \n"
                    ]
                }
            ],
            "source": [
                "# Extract genre names from the JSON-like column\n",
                "def extract_genres(genres_column):\n",
                "    try:\n",
                "        return [genre['name'] for genre in ast.literal_eval(genres_column)]\n",
                "    except (ValueError, SyntaxError):\n",
                "        return []\n",
                "\n",
                "merged_data['genres'] = merged_data['genres'].apply(extract_genres)\n",
                "\n",
                "# Display processed genres\n",
                "print(\"Processed Genres:\")\n",
                "print(merged_data[['title', 'genres']].head())"
            ]
        },
        {
            "cell_type": "markdown",
            "metadata": {},
            "source": [
                "Explanation:\n",
                "\n",
                "- Parse the `genres` column to extract a list of genre names for each movie.\n",
                "- This ensures the data is ready for genre-based analysis."
            ]
        },
        {
            "cell_type": "markdown",
            "metadata": {},
            "source": [
                "**1.5. PROCESS CAST**"
            ]
        },
        {
            "cell_type": "code",
            "execution_count": 72,
            "metadata": {},
            "outputs": [
                {
                    "name": "stdout",
                    "output_type": "stream",
                    "text": [
                        "Processed Cast:\n",
                        "                                      title  \\\n",
                        "0                                    Avatar   \n",
                        "1  Pirates of the Caribbean: At World's End   \n",
                        "2                                   Spectre   \n",
                        "3                     The Dark Knight Rises   \n",
                        "4                               John Carter   \n",
                        "\n",
                        "                                               cast  \n",
                        "0  [Sam Worthington, Zoe Saldana, Sigourney Weaver]  \n",
                        "1     [Johnny Depp, Orlando Bloom, Keira Knightley]  \n",
                        "2      [Daniel Craig, Christoph Waltz, Léa Seydoux]  \n",
                        "3      [Christian Bale, Michael Caine, Gary Oldman]  \n",
                        "4    [Taylor Kitsch, Lynn Collins, Samantha Morton]  \n"
                    ]
                }
            ],
            "source": [
                "# Extract top 3 actor names from the JSON-like column\n",
                "def extract_top_actors(cast_column):\n",
                "    try:\n",
                "        return [actor['name'] for actor in ast.literal_eval(cast_column)[:3]]  # Top 3 actors\n",
                "    except (ValueError, SyntaxError):\n",
                "        return []\n",
                "\n",
                "merged_data['cast'] = merged_data['cast'].apply(extract_top_actors)\n",
                "\n",
                "# Display processed cast\n",
                "print(\"Processed Cast:\")\n",
                "print(merged_data[['title', 'cast']].head())"
            ]
        },
        {
            "cell_type": "markdown",
            "metadata": {},
            "source": [
                "- Parse the `cast` column to extract the names of the top 3 actors for each movie.\n",
                "- These actors are the candidates for determining relevance by genre"
            ]
        },
        {
            "cell_type": "markdown",
            "metadata": {},
            "source": [
                "**FINAL DATASET STRUCTURE**\n",
                "After processing, the dataset will have:\n",
                "\n",
                "- `title`: Movie title (for reference).\n",
                "- `genres`: List of genres for the movie.\n",
                "- `cast`: Top 3 actors' names.\n",
                "\n",
                "This ensures the data is now prepared for further steps to analyze the relationship between genres and relevant actors."
            ]
        },
        {
            "cell_type": "markdown",
            "metadata": {},
            "source": [
                "<br>\n",
                "\n",
                "# **STEP 2: FEATURE ENGINEERING**"
            ]
        },
        {
            "cell_type": "markdown",
            "metadata": {},
            "source": [
                "**2.1. ENCODE `genres`**"
            ]
        },
        {
            "cell_type": "code",
            "execution_count": 73,
            "metadata": {},
            "outputs": [
                {
                    "name": "stdout",
                    "output_type": "stream",
                    "text": [
                        "Dataset with Encoded Genres:\n",
                        "                                      title  \\\n",
                        "0                                    Avatar   \n",
                        "1  Pirates of the Caribbean: At World's End   \n",
                        "2                                   Spectre   \n",
                        "3                     The Dark Knight Rises   \n",
                        "4                               John Carter   \n",
                        "\n",
                        "                                               cast  Action  Adventure  \\\n",
                        "0  [Sam Worthington, Zoe Saldana, Sigourney Weaver]       1          1   \n",
                        "1     [Johnny Depp, Orlando Bloom, Keira Knightley]       1          1   \n",
                        "2      [Daniel Craig, Christoph Waltz, Léa Seydoux]       1          1   \n",
                        "3      [Christian Bale, Michael Caine, Gary Oldman]       1          0   \n",
                        "4    [Taylor Kitsch, Lynn Collins, Samantha Morton]       1          1   \n",
                        "\n",
                        "   Animation  Comedy  Crime  Documentary  Drama  Family  ...  History  Horror  \\\n",
                        "0          0       0      0            0      0       0  ...        0       0   \n",
                        "1          0       0      0            0      0       0  ...        0       0   \n",
                        "2          0       0      1            0      0       0  ...        0       0   \n",
                        "3          0       0      1            0      1       0  ...        0       0   \n",
                        "4          0       0      0            0      0       0  ...        0       0   \n",
                        "\n",
                        "   Music  Mystery  Romance  Science Fiction  TV Movie  Thriller  War  Western  \n",
                        "0      0        0        0                1         0         0    0        0  \n",
                        "1      0        0        0                0         0         0    0        0  \n",
                        "2      0        0        0                0         0         0    0        0  \n",
                        "3      0        0        0                0         0         1    0        0  \n",
                        "4      0        0        0                1         0         0    0        0  \n",
                        "\n",
                        "[5 rows x 22 columns]\n"
                    ]
                }
            ],
            "source": [
                "mlb = MultiLabelBinarizer()\n",
                "genres_encoded = pd.DataFrame(mlb.fit_transform(merged_data['genres']), columns=mlb.classes_)\n",
                "\n",
                "# Add encoded genres back to the dataset\n",
                "merged_data = pd.concat([merged_data, genres_encoded], axis=1)\n",
                "\n",
                "# Drop the original 'genres' column\n",
                "merged_data.drop('genres', axis=1, inplace=True)\n",
                "\n",
                "# Display the dataset with encoded genres\n",
                "print(\"Dataset with Encoded Genres:\")\n",
                "print(merged_data.head())\n"
            ]
        },
        {
            "cell_type": "markdown",
            "metadata": {},
            "source": [
                "- Use `MultiLabelBinarizer` to one-hot encode the `genres` column.\n",
                "- Each genre becomes a separate binary feature (1 = present, 0 = absent)."
            ]
        },
        {
            "cell_type": "markdown",
            "metadata": {},
            "source": [
                "**2.2 CREATE ACTOR FEATURES**\n"
            ]
        },
        {
            "cell_type": "code",
            "execution_count": 74,
            "metadata": {},
            "outputs": [],
            "source": [
                "# Flatten the cast list into individual actor columns\n",
                "for i in range(3):\n",
                "    merged_data[f'actor_{i+1}'] = merged_data['cast'].apply(lambda x: x[i] if len(x) > i else None)\n",
                "\n",
                "# Drop the original 'cast' column\n",
                "merged_data.drop('cast', axis=1, inplace=True)\n",
                "\n"
            ]
        },
        {
            "cell_type": "code",
            "execution_count": 75,
            "metadata": {},
            "outputs": [
                {
                    "name": "stdout",
                    "output_type": "stream",
                    "text": [
                        "Dataset with Actor Features:\n"
                    ]
                },
                {
                    "data": {
                        "text/html": [
                            "<div>\n",
                            "<style scoped>\n",
                            "    .dataframe tbody tr th:only-of-type {\n",
                            "        vertical-align: middle;\n",
                            "    }\n",
                            "\n",
                            "    .dataframe tbody tr th {\n",
                            "        vertical-align: top;\n",
                            "    }\n",
                            "\n",
                            "    .dataframe thead th {\n",
                            "        text-align: right;\n",
                            "    }\n",
                            "</style>\n",
                            "<table border=\"1\" class=\"dataframe\">\n",
                            "  <thead>\n",
                            "    <tr style=\"text-align: right;\">\n",
                            "      <th></th>\n",
                            "      <th>title</th>\n",
                            "      <th>Action</th>\n",
                            "      <th>Adventure</th>\n",
                            "      <th>Animation</th>\n",
                            "      <th>Comedy</th>\n",
                            "      <th>Crime</th>\n",
                            "      <th>Documentary</th>\n",
                            "      <th>Drama</th>\n",
                            "      <th>Family</th>\n",
                            "      <th>Fantasy</th>\n",
                            "      <th>...</th>\n",
                            "      <th>Mystery</th>\n",
                            "      <th>Romance</th>\n",
                            "      <th>Science Fiction</th>\n",
                            "      <th>TV Movie</th>\n",
                            "      <th>Thriller</th>\n",
                            "      <th>War</th>\n",
                            "      <th>Western</th>\n",
                            "      <th>actor_1</th>\n",
                            "      <th>actor_2</th>\n",
                            "      <th>actor_3</th>\n",
                            "    </tr>\n",
                            "  </thead>\n",
                            "  <tbody>\n",
                            "    <tr>\n",
                            "      <th>0</th>\n",
                            "      <td>Avatar</td>\n",
                            "      <td>1</td>\n",
                            "      <td>1</td>\n",
                            "      <td>0</td>\n",
                            "      <td>0</td>\n",
                            "      <td>0</td>\n",
                            "      <td>0</td>\n",
                            "      <td>0</td>\n",
                            "      <td>0</td>\n",
                            "      <td>1</td>\n",
                            "      <td>...</td>\n",
                            "      <td>0</td>\n",
                            "      <td>0</td>\n",
                            "      <td>1</td>\n",
                            "      <td>0</td>\n",
                            "      <td>0</td>\n",
                            "      <td>0</td>\n",
                            "      <td>0</td>\n",
                            "      <td>Sam Worthington</td>\n",
                            "      <td>Zoe Saldana</td>\n",
                            "      <td>Sigourney Weaver</td>\n",
                            "    </tr>\n",
                            "    <tr>\n",
                            "      <th>1</th>\n",
                            "      <td>Pirates of the Caribbean: At World's End</td>\n",
                            "      <td>1</td>\n",
                            "      <td>1</td>\n",
                            "      <td>0</td>\n",
                            "      <td>0</td>\n",
                            "      <td>0</td>\n",
                            "      <td>0</td>\n",
                            "      <td>0</td>\n",
                            "      <td>0</td>\n",
                            "      <td>1</td>\n",
                            "      <td>...</td>\n",
                            "      <td>0</td>\n",
                            "      <td>0</td>\n",
                            "      <td>0</td>\n",
                            "      <td>0</td>\n",
                            "      <td>0</td>\n",
                            "      <td>0</td>\n",
                            "      <td>0</td>\n",
                            "      <td>Johnny Depp</td>\n",
                            "      <td>Orlando Bloom</td>\n",
                            "      <td>Keira Knightley</td>\n",
                            "    </tr>\n",
                            "    <tr>\n",
                            "      <th>2</th>\n",
                            "      <td>Spectre</td>\n",
                            "      <td>1</td>\n",
                            "      <td>1</td>\n",
                            "      <td>0</td>\n",
                            "      <td>0</td>\n",
                            "      <td>1</td>\n",
                            "      <td>0</td>\n",
                            "      <td>0</td>\n",
                            "      <td>0</td>\n",
                            "      <td>0</td>\n",
                            "      <td>...</td>\n",
                            "      <td>0</td>\n",
                            "      <td>0</td>\n",
                            "      <td>0</td>\n",
                            "      <td>0</td>\n",
                            "      <td>0</td>\n",
                            "      <td>0</td>\n",
                            "      <td>0</td>\n",
                            "      <td>Daniel Craig</td>\n",
                            "      <td>Christoph Waltz</td>\n",
                            "      <td>Léa Seydoux</td>\n",
                            "    </tr>\n",
                            "    <tr>\n",
                            "      <th>3</th>\n",
                            "      <td>The Dark Knight Rises</td>\n",
                            "      <td>1</td>\n",
                            "      <td>0</td>\n",
                            "      <td>0</td>\n",
                            "      <td>0</td>\n",
                            "      <td>1</td>\n",
                            "      <td>0</td>\n",
                            "      <td>1</td>\n",
                            "      <td>0</td>\n",
                            "      <td>0</td>\n",
                            "      <td>...</td>\n",
                            "      <td>0</td>\n",
                            "      <td>0</td>\n",
                            "      <td>0</td>\n",
                            "      <td>0</td>\n",
                            "      <td>1</td>\n",
                            "      <td>0</td>\n",
                            "      <td>0</td>\n",
                            "      <td>Christian Bale</td>\n",
                            "      <td>Michael Caine</td>\n",
                            "      <td>Gary Oldman</td>\n",
                            "    </tr>\n",
                            "    <tr>\n",
                            "      <th>4</th>\n",
                            "      <td>John Carter</td>\n",
                            "      <td>1</td>\n",
                            "      <td>1</td>\n",
                            "      <td>0</td>\n",
                            "      <td>0</td>\n",
                            "      <td>0</td>\n",
                            "      <td>0</td>\n",
                            "      <td>0</td>\n",
                            "      <td>0</td>\n",
                            "      <td>0</td>\n",
                            "      <td>...</td>\n",
                            "      <td>0</td>\n",
                            "      <td>0</td>\n",
                            "      <td>1</td>\n",
                            "      <td>0</td>\n",
                            "      <td>0</td>\n",
                            "      <td>0</td>\n",
                            "      <td>0</td>\n",
                            "      <td>Taylor Kitsch</td>\n",
                            "      <td>Lynn Collins</td>\n",
                            "      <td>Samantha Morton</td>\n",
                            "    </tr>\n",
                            "  </tbody>\n",
                            "</table>\n",
                            "<p>5 rows × 24 columns</p>\n",
                            "</div>"
                        ],
                        "text/plain": [
                            "                                      title  Action  Adventure  Animation  \\\n",
                            "0                                    Avatar       1          1          0   \n",
                            "1  Pirates of the Caribbean: At World's End       1          1          0   \n",
                            "2                                   Spectre       1          1          0   \n",
                            "3                     The Dark Knight Rises       1          0          0   \n",
                            "4                               John Carter       1          1          0   \n",
                            "\n",
                            "   Comedy  Crime  Documentary  Drama  Family  Fantasy  ...  Mystery  Romance  \\\n",
                            "0       0      0            0      0       0        1  ...        0        0   \n",
                            "1       0      0            0      0       0        1  ...        0        0   \n",
                            "2       0      1            0      0       0        0  ...        0        0   \n",
                            "3       0      1            0      1       0        0  ...        0        0   \n",
                            "4       0      0            0      0       0        0  ...        0        0   \n",
                            "\n",
                            "   Science Fiction  TV Movie  Thriller  War  Western          actor_1  \\\n",
                            "0                1         0         0    0        0  Sam Worthington   \n",
                            "1                0         0         0    0        0      Johnny Depp   \n",
                            "2                0         0         0    0        0     Daniel Craig   \n",
                            "3                0         0         1    0        0   Christian Bale   \n",
                            "4                1         0         0    0        0    Taylor Kitsch   \n",
                            "\n",
                            "           actor_2           actor_3  \n",
                            "0      Zoe Saldana  Sigourney Weaver  \n",
                            "1    Orlando Bloom   Keira Knightley  \n",
                            "2  Christoph Waltz       Léa Seydoux  \n",
                            "3    Michael Caine       Gary Oldman  \n",
                            "4     Lynn Collins   Samantha Morton  \n",
                            "\n",
                            "[5 rows x 24 columns]"
                        ]
                    },
                    "execution_count": 75,
                    "metadata": {},
                    "output_type": "execute_result"
                }
            ],
            "source": [
                "# Display dataset with actor columns\n",
                "print(\"Dataset with Actor Features:\")\n",
                "merged_data.head()"
            ]
        },
        {
            "cell_type": "markdown",
            "metadata": {},
            "source": [
                "- Extract the top 3 actors from the `cast` column into separate columns (`actor_1`, `actor_2`, `actor_3`).\n",
                "- Simplifies analysis by making actor data explicit."
            ]
        },
        {
            "cell_type": "markdown",
            "metadata": {},
            "source": [
                "**2.3 ASSIGN GENRE-SPECIFIC ACTOR RELEVANCE**"
            ]
        },
        {
            "cell_type": "code",
            "execution_count": 76,
            "metadata": {},
            "outputs": [],
            "source": [
                "# Create a helper DataFrame to track actor relevance by genre\n",
                "actor_genre_relevance = merged_data.melt(id_vars=mlb.classes_, value_vars=['actor_1', 'actor_2', 'actor_3'], \n",
                "                                         var_name='actor_position', value_name='actor')\n",
                "\n",
                "# Drop rows where 'actor' is NaN\n",
                "actor_genre_relevance.dropna(subset=['actor'], inplace=True)\n",
                "\n"
            ]
        },
        {
            "cell_type": "code",
            "execution_count": 77,
            "metadata": {},
            "outputs": [
                {
                    "name": "stdout",
                    "output_type": "stream",
                    "text": [
                        "ACTOR-GENRE RELEVANCE DataFrame:\n"
                    ]
                },
                {
                    "data": {
                        "text/html": [
                            "<div>\n",
                            "<style scoped>\n",
                            "    .dataframe tbody tr th:only-of-type {\n",
                            "        vertical-align: middle;\n",
                            "    }\n",
                            "\n",
                            "    .dataframe tbody tr th {\n",
                            "        vertical-align: top;\n",
                            "    }\n",
                            "\n",
                            "    .dataframe thead th {\n",
                            "        text-align: right;\n",
                            "    }\n",
                            "</style>\n",
                            "<table border=\"1\" class=\"dataframe\">\n",
                            "  <thead>\n",
                            "    <tr style=\"text-align: right;\">\n",
                            "      <th></th>\n",
                            "      <th>Action</th>\n",
                            "      <th>Adventure</th>\n",
                            "      <th>Animation</th>\n",
                            "      <th>Comedy</th>\n",
                            "      <th>Crime</th>\n",
                            "      <th>Documentary</th>\n",
                            "      <th>Drama</th>\n",
                            "      <th>Family</th>\n",
                            "      <th>Fantasy</th>\n",
                            "      <th>Foreign</th>\n",
                            "      <th>...</th>\n",
                            "      <th>Music</th>\n",
                            "      <th>Mystery</th>\n",
                            "      <th>Romance</th>\n",
                            "      <th>Science Fiction</th>\n",
                            "      <th>TV Movie</th>\n",
                            "      <th>Thriller</th>\n",
                            "      <th>War</th>\n",
                            "      <th>Western</th>\n",
                            "      <th>actor_position</th>\n",
                            "      <th>actor</th>\n",
                            "    </tr>\n",
                            "  </thead>\n",
                            "  <tbody>\n",
                            "    <tr>\n",
                            "      <th>0</th>\n",
                            "      <td>1</td>\n",
                            "      <td>1</td>\n",
                            "      <td>0</td>\n",
                            "      <td>0</td>\n",
                            "      <td>0</td>\n",
                            "      <td>0</td>\n",
                            "      <td>0</td>\n",
                            "      <td>0</td>\n",
                            "      <td>1</td>\n",
                            "      <td>0</td>\n",
                            "      <td>...</td>\n",
                            "      <td>0</td>\n",
                            "      <td>0</td>\n",
                            "      <td>0</td>\n",
                            "      <td>1</td>\n",
                            "      <td>0</td>\n",
                            "      <td>0</td>\n",
                            "      <td>0</td>\n",
                            "      <td>0</td>\n",
                            "      <td>actor_1</td>\n",
                            "      <td>Sam Worthington</td>\n",
                            "    </tr>\n",
                            "    <tr>\n",
                            "      <th>1</th>\n",
                            "      <td>1</td>\n",
                            "      <td>1</td>\n",
                            "      <td>0</td>\n",
                            "      <td>0</td>\n",
                            "      <td>0</td>\n",
                            "      <td>0</td>\n",
                            "      <td>0</td>\n",
                            "      <td>0</td>\n",
                            "      <td>1</td>\n",
                            "      <td>0</td>\n",
                            "      <td>...</td>\n",
                            "      <td>0</td>\n",
                            "      <td>0</td>\n",
                            "      <td>0</td>\n",
                            "      <td>0</td>\n",
                            "      <td>0</td>\n",
                            "      <td>0</td>\n",
                            "      <td>0</td>\n",
                            "      <td>0</td>\n",
                            "      <td>actor_1</td>\n",
                            "      <td>Johnny Depp</td>\n",
                            "    </tr>\n",
                            "    <tr>\n",
                            "      <th>2</th>\n",
                            "      <td>1</td>\n",
                            "      <td>1</td>\n",
                            "      <td>0</td>\n",
                            "      <td>0</td>\n",
                            "      <td>1</td>\n",
                            "      <td>0</td>\n",
                            "      <td>0</td>\n",
                            "      <td>0</td>\n",
                            "      <td>0</td>\n",
                            "      <td>0</td>\n",
                            "      <td>...</td>\n",
                            "      <td>0</td>\n",
                            "      <td>0</td>\n",
                            "      <td>0</td>\n",
                            "      <td>0</td>\n",
                            "      <td>0</td>\n",
                            "      <td>0</td>\n",
                            "      <td>0</td>\n",
                            "      <td>0</td>\n",
                            "      <td>actor_1</td>\n",
                            "      <td>Daniel Craig</td>\n",
                            "    </tr>\n",
                            "    <tr>\n",
                            "      <th>3</th>\n",
                            "      <td>1</td>\n",
                            "      <td>0</td>\n",
                            "      <td>0</td>\n",
                            "      <td>0</td>\n",
                            "      <td>1</td>\n",
                            "      <td>0</td>\n",
                            "      <td>1</td>\n",
                            "      <td>0</td>\n",
                            "      <td>0</td>\n",
                            "      <td>0</td>\n",
                            "      <td>...</td>\n",
                            "      <td>0</td>\n",
                            "      <td>0</td>\n",
                            "      <td>0</td>\n",
                            "      <td>0</td>\n",
                            "      <td>0</td>\n",
                            "      <td>1</td>\n",
                            "      <td>0</td>\n",
                            "      <td>0</td>\n",
                            "      <td>actor_1</td>\n",
                            "      <td>Christian Bale</td>\n",
                            "    </tr>\n",
                            "    <tr>\n",
                            "      <th>4</th>\n",
                            "      <td>1</td>\n",
                            "      <td>1</td>\n",
                            "      <td>0</td>\n",
                            "      <td>0</td>\n",
                            "      <td>0</td>\n",
                            "      <td>0</td>\n",
                            "      <td>0</td>\n",
                            "      <td>0</td>\n",
                            "      <td>0</td>\n",
                            "      <td>0</td>\n",
                            "      <td>...</td>\n",
                            "      <td>0</td>\n",
                            "      <td>0</td>\n",
                            "      <td>0</td>\n",
                            "      <td>1</td>\n",
                            "      <td>0</td>\n",
                            "      <td>0</td>\n",
                            "      <td>0</td>\n",
                            "      <td>0</td>\n",
                            "      <td>actor_1</td>\n",
                            "      <td>Taylor Kitsch</td>\n",
                            "    </tr>\n",
                            "  </tbody>\n",
                            "</table>\n",
                            "<p>5 rows × 22 columns</p>\n",
                            "</div>"
                        ],
                        "text/plain": [
                            "   Action  Adventure  Animation  Comedy  Crime  Documentary  Drama  Family  \\\n",
                            "0       1          1          0       0      0            0      0       0   \n",
                            "1       1          1          0       0      0            0      0       0   \n",
                            "2       1          1          0       0      1            0      0       0   \n",
                            "3       1          0          0       0      1            0      1       0   \n",
                            "4       1          1          0       0      0            0      0       0   \n",
                            "\n",
                            "   Fantasy  Foreign  ...  Music  Mystery  Romance  Science Fiction  TV Movie  \\\n",
                            "0        1        0  ...      0        0        0                1         0   \n",
                            "1        1        0  ...      0        0        0                0         0   \n",
                            "2        0        0  ...      0        0        0                0         0   \n",
                            "3        0        0  ...      0        0        0                0         0   \n",
                            "4        0        0  ...      0        0        0                1         0   \n",
                            "\n",
                            "   Thriller  War  Western  actor_position            actor  \n",
                            "0         0    0        0         actor_1  Sam Worthington  \n",
                            "1         0    0        0         actor_1      Johnny Depp  \n",
                            "2         0    0        0         actor_1     Daniel Craig  \n",
                            "3         1    0        0         actor_1   Christian Bale  \n",
                            "4         0    0        0         actor_1    Taylor Kitsch  \n",
                            "\n",
                            "[5 rows x 22 columns]"
                        ]
                    },
                    "execution_count": 77,
                    "metadata": {},
                    "output_type": "execute_result"
                }
            ],
            "source": [
                "# Display the actor-genre mapping\n",
                "print(\"ACTOR-GENRE RELEVANCE DataFrame:\")\n",
                "actor_genre_relevance.head()"
            ]
        },
        {
            "cell_type": "markdown",
            "metadata": {},
            "source": [
                "- Create a mapping between genres and actors.\n",
                "- Use the `melt` function to transform actor columns into rows, associating each actor with their respective genres.\n"
            ]
        },
        {
            "cell_type": "markdown",
            "metadata": {},
            "source": [
                "**2.4. GENERATE TRAINIG DATASET**"
            ]
        },
        {
            "cell_type": "code",
            "execution_count": 78,
            "metadata": {},
            "outputs": [
                {
                    "ename": "ValueError",
                    "evalue": "Grouper and axis must be same length",
                    "output_type": "error",
                    "traceback": [
                        "\u001b[1;31m---------------------------------------------------------------------------\u001b[0m",
                        "\u001b[1;31mValueError\u001b[0m                                Traceback (most recent call last)",
                        "Cell \u001b[1;32mIn[78], line 2\u001b[0m\n\u001b[0;32m      1\u001b[0m \u001b[38;5;66;03m# Aggregate actor appearances across genres\u001b[39;00m\n\u001b[1;32m----> 2\u001b[0m actor_genre_count \u001b[38;5;241m=\u001b[39m \u001b[43mactor_genre_relevance\u001b[49m\u001b[38;5;241;43m.\u001b[39;49m\u001b[43mgroupby\u001b[49m\u001b[43m(\u001b[49m\u001b[43m[\u001b[49m\u001b[38;5;124;43m'\u001b[39;49m\u001b[38;5;124;43mactor\u001b[39;49m\u001b[38;5;124;43m'\u001b[39;49m\u001b[43m]\u001b[49m\u001b[43m \u001b[49m\u001b[38;5;241;43m+\u001b[39;49m\u001b[43m \u001b[49m\u001b[43mmlb\u001b[49m\u001b[38;5;241;43m.\u001b[39;49m\u001b[43mclasses_\u001b[49m\u001b[43m)\u001b[49m\u001b[38;5;241m.\u001b[39msize()\u001b[38;5;241m.\u001b[39mreset_index(name\u001b[38;5;241m=\u001b[39m\u001b[38;5;124m'\u001b[39m\u001b[38;5;124mcount\u001b[39m\u001b[38;5;124m'\u001b[39m)\n\u001b[0;32m      4\u001b[0m \u001b[38;5;66;03m# Filter out less relevant actors (e.g., threshold of appearances)\u001b[39;00m\n\u001b[0;32m      5\u001b[0m threshold \u001b[38;5;241m=\u001b[39m \u001b[38;5;241m2\u001b[39m\n",
                        "File \u001b[1;32mc:\\Users\\Jen\\AppData\\Local\\Programs\\Python\\Python312\\Lib\\site-packages\\pandas\\core\\frame.py:9183\u001b[0m, in \u001b[0;36mDataFrame.groupby\u001b[1;34m(self, by, axis, level, as_index, sort, group_keys, observed, dropna)\u001b[0m\n\u001b[0;32m   9180\u001b[0m \u001b[38;5;28;01mif\u001b[39;00m level \u001b[38;5;129;01mis\u001b[39;00m \u001b[38;5;28;01mNone\u001b[39;00m \u001b[38;5;129;01mand\u001b[39;00m by \u001b[38;5;129;01mis\u001b[39;00m \u001b[38;5;28;01mNone\u001b[39;00m:\n\u001b[0;32m   9181\u001b[0m     \u001b[38;5;28;01mraise\u001b[39;00m \u001b[38;5;167;01mTypeError\u001b[39;00m(\u001b[38;5;124m\"\u001b[39m\u001b[38;5;124mYou have to supply one of \u001b[39m\u001b[38;5;124m'\u001b[39m\u001b[38;5;124mby\u001b[39m\u001b[38;5;124m'\u001b[39m\u001b[38;5;124m and \u001b[39m\u001b[38;5;124m'\u001b[39m\u001b[38;5;124mlevel\u001b[39m\u001b[38;5;124m'\u001b[39m\u001b[38;5;124m\"\u001b[39m)\n\u001b[1;32m-> 9183\u001b[0m \u001b[38;5;28;01mreturn\u001b[39;00m \u001b[43mDataFrameGroupBy\u001b[49m\u001b[43m(\u001b[49m\n\u001b[0;32m   9184\u001b[0m \u001b[43m    \u001b[49m\u001b[43mobj\u001b[49m\u001b[38;5;241;43m=\u001b[39;49m\u001b[38;5;28;43mself\u001b[39;49m\u001b[43m,\u001b[49m\n\u001b[0;32m   9185\u001b[0m \u001b[43m    \u001b[49m\u001b[43mkeys\u001b[49m\u001b[38;5;241;43m=\u001b[39;49m\u001b[43mby\u001b[49m\u001b[43m,\u001b[49m\n\u001b[0;32m   9186\u001b[0m \u001b[43m    \u001b[49m\u001b[43maxis\u001b[49m\u001b[38;5;241;43m=\u001b[39;49m\u001b[43maxis\u001b[49m\u001b[43m,\u001b[49m\n\u001b[0;32m   9187\u001b[0m \u001b[43m    \u001b[49m\u001b[43mlevel\u001b[49m\u001b[38;5;241;43m=\u001b[39;49m\u001b[43mlevel\u001b[49m\u001b[43m,\u001b[49m\n\u001b[0;32m   9188\u001b[0m \u001b[43m    \u001b[49m\u001b[43mas_index\u001b[49m\u001b[38;5;241;43m=\u001b[39;49m\u001b[43mas_index\u001b[49m\u001b[43m,\u001b[49m\n\u001b[0;32m   9189\u001b[0m \u001b[43m    \u001b[49m\u001b[43msort\u001b[49m\u001b[38;5;241;43m=\u001b[39;49m\u001b[43msort\u001b[49m\u001b[43m,\u001b[49m\n\u001b[0;32m   9190\u001b[0m \u001b[43m    \u001b[49m\u001b[43mgroup_keys\u001b[49m\u001b[38;5;241;43m=\u001b[39;49m\u001b[43mgroup_keys\u001b[49m\u001b[43m,\u001b[49m\n\u001b[0;32m   9191\u001b[0m \u001b[43m    \u001b[49m\u001b[43mobserved\u001b[49m\u001b[38;5;241;43m=\u001b[39;49m\u001b[43mobserved\u001b[49m\u001b[43m,\u001b[49m\n\u001b[0;32m   9192\u001b[0m \u001b[43m    \u001b[49m\u001b[43mdropna\u001b[49m\u001b[38;5;241;43m=\u001b[39;49m\u001b[43mdropna\u001b[49m\u001b[43m,\u001b[49m\n\u001b[0;32m   9193\u001b[0m \u001b[43m\u001b[49m\u001b[43m)\u001b[49m\n",
                        "File \u001b[1;32mc:\\Users\\Jen\\AppData\\Local\\Programs\\Python\\Python312\\Lib\\site-packages\\pandas\\core\\groupby\\groupby.py:1329\u001b[0m, in \u001b[0;36mGroupBy.__init__\u001b[1;34m(self, obj, keys, axis, level, grouper, exclusions, selection, as_index, sort, group_keys, observed, dropna)\u001b[0m\n\u001b[0;32m   1326\u001b[0m \u001b[38;5;28mself\u001b[39m\u001b[38;5;241m.\u001b[39mdropna \u001b[38;5;241m=\u001b[39m dropna\n\u001b[0;32m   1328\u001b[0m \u001b[38;5;28;01mif\u001b[39;00m grouper \u001b[38;5;129;01mis\u001b[39;00m \u001b[38;5;28;01mNone\u001b[39;00m:\n\u001b[1;32m-> 1329\u001b[0m     grouper, exclusions, obj \u001b[38;5;241m=\u001b[39m \u001b[43mget_grouper\u001b[49m\u001b[43m(\u001b[49m\n\u001b[0;32m   1330\u001b[0m \u001b[43m        \u001b[49m\u001b[43mobj\u001b[49m\u001b[43m,\u001b[49m\n\u001b[0;32m   1331\u001b[0m \u001b[43m        \u001b[49m\u001b[43mkeys\u001b[49m\u001b[43m,\u001b[49m\n\u001b[0;32m   1332\u001b[0m \u001b[43m        \u001b[49m\u001b[43maxis\u001b[49m\u001b[38;5;241;43m=\u001b[39;49m\u001b[43maxis\u001b[49m\u001b[43m,\u001b[49m\n\u001b[0;32m   1333\u001b[0m \u001b[43m        \u001b[49m\u001b[43mlevel\u001b[49m\u001b[38;5;241;43m=\u001b[39;49m\u001b[43mlevel\u001b[49m\u001b[43m,\u001b[49m\n\u001b[0;32m   1334\u001b[0m \u001b[43m        \u001b[49m\u001b[43msort\u001b[49m\u001b[38;5;241;43m=\u001b[39;49m\u001b[43msort\u001b[49m\u001b[43m,\u001b[49m\n\u001b[0;32m   1335\u001b[0m \u001b[43m        \u001b[49m\u001b[43mobserved\u001b[49m\u001b[38;5;241;43m=\u001b[39;49m\u001b[38;5;28;43;01mFalse\u001b[39;49;00m\u001b[43m \u001b[49m\u001b[38;5;28;43;01mif\u001b[39;49;00m\u001b[43m \u001b[49m\u001b[43mobserved\u001b[49m\u001b[43m \u001b[49m\u001b[38;5;129;43;01mis\u001b[39;49;00m\u001b[43m \u001b[49m\u001b[43mlib\u001b[49m\u001b[38;5;241;43m.\u001b[39;49m\u001b[43mno_default\u001b[49m\u001b[43m \u001b[49m\u001b[38;5;28;43;01melse\u001b[39;49;00m\u001b[43m \u001b[49m\u001b[43mobserved\u001b[49m\u001b[43m,\u001b[49m\n\u001b[0;32m   1336\u001b[0m \u001b[43m        \u001b[49m\u001b[43mdropna\u001b[49m\u001b[38;5;241;43m=\u001b[39;49m\u001b[38;5;28;43mself\u001b[39;49m\u001b[38;5;241;43m.\u001b[39;49m\u001b[43mdropna\u001b[49m\u001b[43m,\u001b[49m\n\u001b[0;32m   1337\u001b[0m \u001b[43m    \u001b[49m\u001b[43m)\u001b[49m\n\u001b[0;32m   1339\u001b[0m \u001b[38;5;28;01mif\u001b[39;00m observed \u001b[38;5;129;01mis\u001b[39;00m lib\u001b[38;5;241m.\u001b[39mno_default:\n\u001b[0;32m   1340\u001b[0m     \u001b[38;5;28;01mif\u001b[39;00m \u001b[38;5;28many\u001b[39m(ping\u001b[38;5;241m.\u001b[39m_passed_categorical \u001b[38;5;28;01mfor\u001b[39;00m ping \u001b[38;5;129;01min\u001b[39;00m grouper\u001b[38;5;241m.\u001b[39mgroupings):\n",
                        "File \u001b[1;32mc:\\Users\\Jen\\AppData\\Local\\Programs\\Python\\Python312\\Lib\\site-packages\\pandas\\core\\groupby\\grouper.py:1054\u001b[0m, in \u001b[0;36mget_grouper\u001b[1;34m(obj, key, axis, level, sort, observed, validate, dropna)\u001b[0m\n\u001b[0;32m   1049\u001b[0m         in_axis \u001b[38;5;241m=\u001b[39m \u001b[38;5;28;01mFalse\u001b[39;00m\n\u001b[0;32m   1051\u001b[0m     \u001b[38;5;66;03m# create the Grouping\u001b[39;00m\n\u001b[0;32m   1052\u001b[0m     \u001b[38;5;66;03m# allow us to passing the actual Grouping as the gpr\u001b[39;00m\n\u001b[0;32m   1053\u001b[0m     ping \u001b[38;5;241m=\u001b[39m (\n\u001b[1;32m-> 1054\u001b[0m         \u001b[43mGrouping\u001b[49m\u001b[43m(\u001b[49m\n\u001b[0;32m   1055\u001b[0m \u001b[43m            \u001b[49m\u001b[43mgroup_axis\u001b[49m\u001b[43m,\u001b[49m\n\u001b[0;32m   1056\u001b[0m \u001b[43m            \u001b[49m\u001b[43mgpr\u001b[49m\u001b[43m,\u001b[49m\n\u001b[0;32m   1057\u001b[0m \u001b[43m            \u001b[49m\u001b[43mobj\u001b[49m\u001b[38;5;241;43m=\u001b[39;49m\u001b[43mobj\u001b[49m\u001b[43m,\u001b[49m\n\u001b[0;32m   1058\u001b[0m \u001b[43m            \u001b[49m\u001b[43mlevel\u001b[49m\u001b[38;5;241;43m=\u001b[39;49m\u001b[43mlevel\u001b[49m\u001b[43m,\u001b[49m\n\u001b[0;32m   1059\u001b[0m \u001b[43m            \u001b[49m\u001b[43msort\u001b[49m\u001b[38;5;241;43m=\u001b[39;49m\u001b[43msort\u001b[49m\u001b[43m,\u001b[49m\n\u001b[0;32m   1060\u001b[0m \u001b[43m            \u001b[49m\u001b[43mobserved\u001b[49m\u001b[38;5;241;43m=\u001b[39;49m\u001b[43mobserved\u001b[49m\u001b[43m,\u001b[49m\n\u001b[0;32m   1061\u001b[0m \u001b[43m            \u001b[49m\u001b[43min_axis\u001b[49m\u001b[38;5;241;43m=\u001b[39;49m\u001b[43min_axis\u001b[49m\u001b[43m,\u001b[49m\n\u001b[0;32m   1062\u001b[0m \u001b[43m            \u001b[49m\u001b[43mdropna\u001b[49m\u001b[38;5;241;43m=\u001b[39;49m\u001b[43mdropna\u001b[49m\u001b[43m,\u001b[49m\n\u001b[0;32m   1063\u001b[0m \u001b[43m        \u001b[49m\u001b[43m)\u001b[49m\n\u001b[0;32m   1064\u001b[0m         \u001b[38;5;28;01mif\u001b[39;00m \u001b[38;5;129;01mnot\u001b[39;00m \u001b[38;5;28misinstance\u001b[39m(gpr, Grouping)\n\u001b[0;32m   1065\u001b[0m         \u001b[38;5;28;01melse\u001b[39;00m gpr\n\u001b[0;32m   1066\u001b[0m     )\n\u001b[0;32m   1068\u001b[0m     groupings\u001b[38;5;241m.\u001b[39mappend(ping)\n\u001b[0;32m   1070\u001b[0m \u001b[38;5;28;01mif\u001b[39;00m \u001b[38;5;28mlen\u001b[39m(groupings) \u001b[38;5;241m==\u001b[39m \u001b[38;5;241m0\u001b[39m \u001b[38;5;129;01mand\u001b[39;00m \u001b[38;5;28mlen\u001b[39m(obj):\n",
                        "File \u001b[1;32mc:\\Users\\Jen\\AppData\\Local\\Programs\\Python\\Python312\\Lib\\site-packages\\pandas\\core\\groupby\\grouper.py:541\u001b[0m, in \u001b[0;36mGrouping.__init__\u001b[1;34m(self, index, grouper, obj, level, sort, observed, in_axis, dropna, uniques)\u001b[0m\n\u001b[0;32m    539\u001b[0m \u001b[38;5;28mself\u001b[39m\u001b[38;5;241m.\u001b[39mlevel \u001b[38;5;241m=\u001b[39m level\n\u001b[0;32m    540\u001b[0m \u001b[38;5;28mself\u001b[39m\u001b[38;5;241m.\u001b[39m_orig_grouper \u001b[38;5;241m=\u001b[39m grouper\n\u001b[1;32m--> 541\u001b[0m grouping_vector \u001b[38;5;241m=\u001b[39m \u001b[43m_convert_grouper\u001b[49m\u001b[43m(\u001b[49m\u001b[43mindex\u001b[49m\u001b[43m,\u001b[49m\u001b[43m \u001b[49m\u001b[43mgrouper\u001b[49m\u001b[43m)\u001b[49m\n\u001b[0;32m    542\u001b[0m \u001b[38;5;28mself\u001b[39m\u001b[38;5;241m.\u001b[39m_all_grouper \u001b[38;5;241m=\u001b[39m \u001b[38;5;28;01mNone\u001b[39;00m\n\u001b[0;32m    543\u001b[0m \u001b[38;5;28mself\u001b[39m\u001b[38;5;241m.\u001b[39m_orig_cats \u001b[38;5;241m=\u001b[39m \u001b[38;5;28;01mNone\u001b[39;00m\n",
                        "File \u001b[1;32mc:\\Users\\Jen\\AppData\\Local\\Programs\\Python\\Python312\\Lib\\site-packages\\pandas\\core\\groupby\\grouper.py:1096\u001b[0m, in \u001b[0;36m_convert_grouper\u001b[1;34m(axis, grouper)\u001b[0m\n\u001b[0;32m   1094\u001b[0m \u001b[38;5;28;01melif\u001b[39;00m \u001b[38;5;28misinstance\u001b[39m(grouper, (\u001b[38;5;28mlist\u001b[39m, \u001b[38;5;28mtuple\u001b[39m, Index, Categorical, np\u001b[38;5;241m.\u001b[39mndarray)):\n\u001b[0;32m   1095\u001b[0m     \u001b[38;5;28;01mif\u001b[39;00m \u001b[38;5;28mlen\u001b[39m(grouper) \u001b[38;5;241m!=\u001b[39m \u001b[38;5;28mlen\u001b[39m(axis):\n\u001b[1;32m-> 1096\u001b[0m         \u001b[38;5;28;01mraise\u001b[39;00m \u001b[38;5;167;01mValueError\u001b[39;00m(\u001b[38;5;124m\"\u001b[39m\u001b[38;5;124mGrouper and axis must be same length\u001b[39m\u001b[38;5;124m\"\u001b[39m)\n\u001b[0;32m   1098\u001b[0m     \u001b[38;5;28;01mif\u001b[39;00m \u001b[38;5;28misinstance\u001b[39m(grouper, (\u001b[38;5;28mlist\u001b[39m, \u001b[38;5;28mtuple\u001b[39m)):\n\u001b[0;32m   1099\u001b[0m         grouper \u001b[38;5;241m=\u001b[39m com\u001b[38;5;241m.\u001b[39masarray_tuplesafe(grouper)\n",
                        "\u001b[1;31mValueError\u001b[0m: Grouper and axis must be same length"
                    ]
                }
            ],
            "source": [
                "# Aggregate actor appearances across genres\n",
                "actor_genre_count = actor_genre_relevance.groupby(['actor'] + mlb.classes_).size().reset_index(name='count')\n",
                "\n",
                "# Filter out less relevant actors (e.g., threshold of appearances)\n",
                "threshold = 2\n",
                "actor_genre_count = actor_genre_count[actor_genre_count['count'] >= threshold]\n",
                "\n",
                "# Display the final training dataset\n",
                "print(\"Training Dataset:\")\n",
                "print(actor_genre_count.head())\n"
            ]
        }
    ],
    "metadata": {
        "kernelspec": {
            "display_name": "Python 3",
            "language": "python",
            "name": "python3"
        },
        "language_info": {
            "codemirror_mode": {
                "name": "ipython",
                "version": 3
            },
            "file_extension": ".py",
            "mimetype": "text/x-python",
            "name": "python",
            "nbconvert_exporter": "python",
            "pygments_lexer": "ipython3",
            "version": "3.12.6"
        },
        "orig_nbformat": 4
    },
    "nbformat": 4,
    "nbformat_minor": 2
}
